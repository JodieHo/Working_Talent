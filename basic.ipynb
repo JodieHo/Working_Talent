{
 "cells": [
  {
   "cell_type": "code",
   "execution_count": 2,
   "id": "96270bfe-a778-4905-9fef-6b644f153ded",
   "metadata": {},
   "outputs": [
    {
     "name": "stdout",
     "output_type": "stream",
     "text": [
      "Hello world!\n",
      "In function 1\n",
      "ik  printblauw\n"
     ]
    }
   ],
   "source": [
    "# Comment\n",
    "\n",
    "# Variable\n",
    "a = 5\n",
    "\n",
    "print(\"Hello world!\")\n",
    "\n",
    "#Function declaration\n",
    "def function1():\n",
    "    print(\"In function 1\")\n",
    "\n",
    "def function2(tekst):\n",
    "    print(\"ik  print\" + tekst)\n",
    "\n",
    "#function call\n",
    "function1()\n",
    "function2(\"blauw\")\n"
   ]
  },
  {
   "cell_type": "code",
   "execution_count": null,
   "id": "29b0e62f-ccf2-4749-a581-ba8c128c15ec",
   "metadata": {},
   "outputs": [],
   "source": []
  }
 ],
 "metadata": {
  "kernelspec": {
   "display_name": "Python 3 (ipykernel)",
   "language": "python",
   "name": "python3"
  },
  "language_info": {
   "codemirror_mode": {
    "name": "ipython",
    "version": 3
   },
   "file_extension": ".py",
   "mimetype": "text/x-python",
   "name": "python",
   "nbconvert_exporter": "python",
   "pygments_lexer": "ipython3",
   "version": "3.12.4"
  }
 },
 "nbformat": 4,
 "nbformat_minor": 5
}
